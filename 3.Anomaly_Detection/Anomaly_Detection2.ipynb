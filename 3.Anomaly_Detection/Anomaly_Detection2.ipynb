{
 "cells": [
  {
   "cell_type": "markdown",
   "metadata": {},
   "source": [
    "# 0. 인트로\n",
    "\n",
    "Anomaly Detection \n",
    "본 실습 파일은 우선 다음의 대표적이고 기본적인 Anomaly Detection 방법론 3가지를 다룬다.  \n",
    "-\tGaussian Density-based Anomaly Detection\n",
    "-\tMixture of Gaussians Density Estimation\n",
    "-\tAuto Encoder\n",
    "\n",
    "\n",
    "각각의 모델을 구현해보는 실습 이후에는 위 방법론들을 함께 사용하는 비교적 고도화된 모델 DAGMM(Zong, 2018) 모델을 다룬다.\n",
    "\n",
    "-\tDAGMM (Zong et al., ICLR 2018)\n",
    "\n",
    "각각의 모델에 대한 이론적 내용을 가볍게 설명하고, 실제 python 코드로 실험을 수행하는 과정으로 진행되며, 기본적으로 동일한 데이터에 대한 각 모델의 결과를 비교하는 과정을 포함한다."
   ]
  },
  {
   "cell_type": "markdown",
   "metadata": {},
   "source": [
    "# 1. 이론 및 코드 구현\n",
    "## 1.1\tAnomaly Detection\n",
    "Anomaly Detection은 이름에서 알 수 있듯이 Anomaly Data를 찾아내는 Task로 정상 데이터와 비정상 데이터를 구분해 내는 Task로 이해할 수 있다. 그렇다면 2 class Classification과 동일하게 느껴 질 수도 있는데, 두 Task는 다음과 같은 차이가 있다. \n",
    "\n",
    " <p align=\"center\">   <image src=\"./images/2022-11-16-23-39-00.png\" width=\"60%\"/>   </p>\n",
    "\n",
    "Classification의 경우 각 클래스 별 데이터가 존재하고, 데이터의 label을 활용하여 해당 class를 예측하도록 학습이 된다. 그러나 Anomaly Detection의 경우에는 학습 상황에서는 정상의 데이터만 존재한다는 가정에서 정상 데이터의 특징을 파악할 수 있도록 학습되고, Test 상황에서 학습 과정에서 보지 못한 Anomaly data를 구분하는 과정이다.  \n",
    "\n",
    "즉, two-class Classification의 경우 두가지 범주를 명시적으로 구분하는 것으로 한 class가 아니라면 반드시 다른 class인 상황이며, Anomaly Detection은 학습에 확인한 데이터와 동일한 성질의 데이터인지 아닌지 만을 판단하는 것이다. 즉, Anomaly라고 하더라도 엄밀히 말하면 불량 혹은 비정상 데이터인 것이 아니라 단지 학습에 보지 못한 새로운 성질의 데이터라고 하는 것이 옳다.  \n",
    "\n",
    "Anomaly Detection의 방식은 크게 두 가지로 구분할 수 있는데, 첫째로는 학습 데이터를 통해 정상 데이터의 특징을 파악하고, 새로운 데이터에 대해서 원래 데이터와의 차이 등을 Anomaly score로 계산하여 특정 threshold를 넘으면 Anomaly로 판단하는 경우가 있다. 이번에 실습으로 알아볼 4가지 방법론들은 모두 이 첫번째 case에 해당한다. 두 번 째로는 방법론이 normal/Anomaly 데이터를 구분하는 명시적인 경계면을 생성해 주는 경우이다. 1-SVM이나 SVDD 방법론이 이 경우에 해당한다.  \n",
    "\n",
    " <p align=\"center\">   <image src=\"./images/2022-11-16-23-39-27.png\" width=\"60%\"/>   </p>"
   ]
  },
  {
   "cell_type": "code",
   "execution_count": 7,
   "metadata": {},
   "outputs": [],
   "source": [
    "# 이후의 모델 구현을 위한 라이브러리 및 데이터 불러오기\n",
    "import pandas as pd\n",
    "import numpy as np\n",
    "import matplotlib.pyplot as plt\n",
    "import seaborn as sns\n",
    "import random\n",
    "import warnings\n",
    "warnings.filterwarnings('ignore')\n",
    "\n",
    "from sklearn.preprocessing import StandardScaler\n",
    "# from numpy import genfromtxt\n",
    "from scipy.stats import multivariate_normal\n",
    "from sklearn.mixture import GaussianMixture\n",
    "from sklearn.metrics import f1_score\n",
    "from sklearn.metrics import recall_score , average_precision_score\n",
    "from sklearn.metrics import precision_score, precision_recall_curve\n",
    "from sklearn.metrics import confusion_matrix\n",
    "from sklearn.metrics import roc_curve, auc\n",
    "from sklearn.metrics import roc_auc_score\n",
    "from sklearn.metrics import accuracy_score\n",
    "from sklearn.metrics import classification_report\n",
    "from sklearn.metrics import precision_recall_fscore_support\n",
    "\n",
    "import tqdm\n",
    "import time\n"
   ]
  },
  {
   "cell_type": "code",
   "execution_count": 10,
   "metadata": {},
   "outputs": [
    {
     "name": "stdout",
     "output_type": "stream",
     "text": [
      "['Time' 'V1' 'V2' 'V3' 'V4' 'V5' 'V6' 'V7' 'V8' 'V9' 'V10' 'V11' 'V12'\n",
      " 'V13' 'V14' 'V15' 'V16' 'V17' 'V18' 'V19' 'V20' 'V21' 'V22' 'V23' 'V24'\n",
      " 'V25' 'V26' 'V27' 'V28' 'Amount' 'Class']\n"
     ]
    }
   ],
   "source": [
    "# 데이터 불러오기: 본 데이터는 신용카드 거래 데이터로 다음과 같은 변수를 포함한다.\n",
    "df = pd.read_csv(\"creditcard.csv\")\n",
    "print(df.columns.values)"
   ]
  },
  {
   "cell_type": "code",
   "execution_count": 11,
   "metadata": {},
   "outputs": [
    {
     "data": {
      "image/png": "[encoded data removed]",
      "text/plain": [
       "<Figure size 720x360 with 1 Axes>"
      ]
     },
     "metadata": {
      "needs_background": "light"
     },
     "output_type": "display_data"
    }
   ],
   "source": [
    "# 변수중 Class가 사기 거래인지 여부로 1이면 사기, 0이면 정상 거래를 의미한다.  \n",
    "# 즉, 이번 Anomaly Detection에서는 Class가 1인 데이터를 이상치로 판단한다.\n",
    "x = df['Class'].value_counts().index\n",
    "y = df['Class'].value_counts().values\n",
    "\n",
    "plt.figure(figsize=(10, 5))\n",
    "plt.bar(x, y)\n",
    "plt.xticks(x, ['Normal', 'Fraud'])\n",
    "plt.title('Class Distribution')\n",
    "plt.show()\n",
    "\n",
    "# 편의를 위해 변수중 중요하다고 알려진 ['V3' 'V4' 'V7' 'V9' 'V10' 'V11' 'V12' 'V14' 'V16' 'V17' 'V18' 'Class']만 사용\n",
    "df = df[['V3', 'V4', 'V7', 'V9', 'V10', 'V11', 'V12', 'V14', 'V16' ,'V17', 'V18', 'Class']]"
   ]
  },
  {
   "cell_type": "markdown",
   "metadata": {},
   "source": [
    "위 그래프를 보면 데이터에서 정상 거래와 사기거래의 비율이 매우 불균형한 것을 알 수 있다.\n",
    "즉, Classification이 아닌 Anomaly Detection으로 모델을 구현해야 한다."
   ]
  },
  {
   "cell_type": "code",
   "execution_count": 12,
   "metadata": {},
   "outputs": [],
   "source": [
    "# Class가 0인 데이터만을 포함하는 학습데이터와 정상, 비정상 데이터가 섞인 테스트 데이터를 생성한다.\n",
    "df_normal=df[df['Class'] == 0]\n",
    "df_frud=df[df['Class'] == 1]\n",
    "df_normal = df_normal.sample(frac=1).reset_index(drop=True)\n",
    "train_data_size = int(len(df_normal)*0.8)\n",
    "train_df=df_normal[:train_data_size].drop(['Class'], axis=1)\n",
    "train_target=df_normal[:train_data_size]['Class']\n",
    "\n",
    "test_df=df_normal[train_data_size:]\n",
    "test_df=pd.concat([test_df, df_frud], axis=0,ignore_index=True).sample(frac=1).reset_index(drop=True)\n",
    "test_target=test_df['Class']\n",
    "test_df=test_df.drop(['Class'], axis=1)\n"
   ]
  },
  {
   "cell_type": "code",
   "execution_count": 13,
   "metadata": {},
   "outputs": [],
   "source": [
    "# 이후의 데이터 분석의 과정에서 데이터의 변수들이 모두 동일한 스케일을 갖도록 StandardScaler를 사용하여 스케일링한다.\n",
    "scaler = StandardScaler()\n",
    "scaler.fit(train_df)\n",
    "train_df = scaler.transform(train_df)\n",
    "test_df = scaler.transform(test_df)"
   ]
  },
  {
   "cell_type": "code",
   "execution_count": 14,
   "metadata": {},
   "outputs": [
    {
     "data": {
      "text/plain": [
       "array([[-6.67222416e-01, -2.85185779e-01, -5.92408050e-01, ...,\n",
       "         1.73364203e-01, -6.65745382e-01, -3.58578809e-01],\n",
       "       [-7.40960537e-01,  3.08471879e-01,  2.13610870e-01, ...,\n",
       "        -1.75203018e-01, -4.53774496e-01, -1.17032010e+00],\n",
       "       [-2.23947274e-01,  3.61667512e-01, -3.60871367e-01, ...,\n",
       "        -2.41287971e-02, -8.25955356e-01, -5.35171679e-04],\n",
       "       ...,\n",
       "       [ 7.04083476e-01,  8.51713379e-01, -2.36589558e-01, ...,\n",
       "         6.39312633e-01, -9.48289338e-01,  1.58429578e-01],\n",
       "       [-3.31564357e-02, -6.95888304e-01, -9.54978582e-01, ...,\n",
       "         4.91996569e-01,  2.30697058e+00, -3.16846032e+00],\n",
       "       [-8.55482896e-01, -6.68990132e-01, -3.54524056e-01, ...,\n",
       "         1.20005395e+00, -8.60633945e-02, -1.12162707e+00]])"
      ]
     },
     "execution_count": 14,
     "metadata": {},
     "output_type": "execute_result"
    }
   ],
   "source": [
    "train_df"
   ]
  },
  {
   "cell_type": "code",
   "execution_count": 15,
   "metadata": {},
   "outputs": [
    {
     "data": {
      "text/plain": [
       "array([[ 1.90992432,  0.0852271 , -0.12214539, ...,  0.16257507,\n",
       "        -0.55920427,  0.16572912],\n",
       "       [-1.25558684,  0.38880161,  0.28862614, ...,  0.28135291,\n",
       "         0.43358202,  0.64870517],\n",
       "       [ 1.32334839, -0.81667076, -4.29463541, ...,  0.3561917 ,\n",
       "        -0.779737  ,  1.88713488],\n",
       "       ...,\n",
       "       [ 0.49975083,  0.48775002, -0.57817593, ..., -2.0195925 ,\n",
       "         0.32660228,  1.30509656],\n",
       "       [ 1.0911116 , -1.85559631, -0.12406511, ...,  2.24248558,\n",
       "        -0.96599517, -1.47187398],\n",
       "       [-0.36850568, -0.07372287,  0.85040402, ...,  0.10768255,\n",
       "         0.74757589,  1.03215603]])"
      ]
     },
     "execution_count": 15,
     "metadata": {},
     "output_type": "execute_result"
    }
   ],
   "source": [
    "test_df"
   ]
  },
  {
   "cell_type": "markdown",
   "metadata": {},
   "source": [
    "## 1.2\tGaussian Density-based Anomaly Detection\n",
    "\n",
    " <p align=\"center\">   <image src=\"./images/2022-11-16-23-39-51.png\" width=\"60%\"/>   </p>\n",
    "\n",
    "가장 첫 째로 살펴볼 방법론인 Gaussian Density-based Anomaly Detection은 정상의 학습데이터가 기저에서 Gaussian distribution을 따른다는 가정에서 데이터가 생성되는 데 사용된 분포를 추정하고, 새로운 데이터가 해당 분포에서 생성될만 한지를 통해 Anomaly Detection을 수행한다. 한마디로 하자면 다음과 같다. \"학습 데이터를 보니 이 데이터들은 평균 0이고 분산이 10인 Gaussian 분포를 따르는 거 같은데, 새로운 데이터의 값이 10000이니 이건 같은 분포에서 생성된 데이터는 아니겠다. 이건 이상치네!\"  \n",
    "\n",
    "실제 과정은 다음과 같이 1)Gaussian parameter 추정, 2) test 데이터의 Anomaly Score 산출로 이루어진다.  \n",
    " \n",
    "1) Gaussian parameter 추정  \n",
    "  : 학습데이터에 대해 Maximum Likelihood Estimation을 수행해 단순 계산으로 구한다.  \n",
    "\n",
    " <p align=\"center\">   <image src=\"./images/2022-11-16-23-40-08.png\" width=\"60%\"/>   </p>\n",
    "\n",
    "2) test 데이터의 Anomaly Score 산출  \n",
    "  : 위에서 찾은 Gaussian parameter를 가지는 Gaussian Distribution에 대해 각 데이터의 확률을 계산하고, 그 확률이 특정 threshold 보다 작다면 이상치로 판단한다.\n",
    "\n",
    " <p align=\"center\">   <image src=\"./images/2022-11-16-23-40-18.png\" width=\"60%\"/>   </p>\n",
    "\n",
    "\n",
    "장점  \n",
    "  \n",
    "수식에서 보았듯이 쉽게 빠르게 연산이 가능한 방법론이며, 분포상의 확률이라는 직관적인 Anomaly Score를 제공한다. 또한 threshold를 조절하는 것을 통해 상황에 맞게 대응이 가능하다."
   ]
  },
  {
   "cell_type": "code",
   "execution_count": 16,
   "metadata": {},
   "outputs": [],
   "source": [
    "# Gaussian Density-based Anomaly Detection 코드 구현\n",
    "\n",
    "#  1. Gaussian parameters 구하기\n",
    "def estimateGaussian(X):\n",
    "    mu = np.mean(X, axis=0)\n",
    "    sigma = np.cov(X.T)\n",
    "    return mu, sigma\n",
    "    \n",
    "#  2. Gaussian parameters를 이용하여 Anomaly Score 구하기\n",
    "def multivariateGaussian(X, mu, sigma):\n",
    "    p = multivariate_normal(mean=mu, cov=sigma)\n",
    "    return p.pdf(X)\n",
    "\n",
    "#  3. Anomaly Score를 이용하여 Threshold 구하기\n",
    "def selectThreshold(target, p):\n",
    "    bestEpsilon = 0\n",
    "    bestF1 = 0\n",
    "    F1 = 0\n",
    "    stepsize = (max(p) - min(p)) / 1000\n",
    "    for epsilon in np.arange(min(p), max(p), stepsize):\n",
    "        predictions = (p < epsilon)\n",
    "        # class 간 불균형있고, 범주 중 사기거래 범주에 더욱 중요한 상황이므로 F1 score를 사용한다.\n",
    "        F1 = f1_score(np.array(target), predictions)\n",
    "        if F1 > bestF1:\n",
    "            bestF1 = F1\n",
    "            bestEpsilon = epsilon\n",
    "    return bestF1, bestEpsilon"
   ]
  },
  {
   "cell_type": "code",
   "execution_count": 17,
   "metadata": {},
   "outputs": [
    {
     "name": "stdout",
     "output_type": "stream",
     "text": [
      "mu: [-2.44915633e-17  7.37246037e-18 -1.56196194e-18  1.65567966e-18\n",
      " -9.68416405e-18  2.24922520e-17 -4.38911306e-18  1.90559357e-18\n",
      "  1.47761600e-17 -1.38702221e-17 -9.74664252e-18]\n",
      "sigma: [[ 1.0000044   0.04409098 -0.07655624 -0.03442881 -0.08532905  0.04883784\n",
      "  -0.08727533 -0.08371176 -0.06503326 -0.13003131 -0.04367564]\n",
      " [ 0.04409098  1.0000044   0.03862478  0.01896979  0.04438896 -0.02909495\n",
      "   0.05140493  0.05553967  0.0377161   0.07405467  0.02224405]\n",
      " [-0.07655624  0.03862478  1.0000044  -0.03873998 -0.08736492  0.04510603\n",
      "  -0.08890848 -0.08187621 -0.08448073 -0.14688966 -0.04837114]\n",
      " [-0.03442881  0.01896979 -0.03873998  1.0000044  -0.03950872  0.02373295\n",
      "  -0.04314902 -0.04181107 -0.03109138 -0.06608298 -0.01991968]\n",
      " [-0.08532905  0.04438896 -0.08736492 -0.03950872  1.0000044   0.05209365\n",
      "  -0.09846821 -0.09759092 -0.07738467 -0.14673297 -0.04960777]\n",
      " [ 0.04883784 -0.02909495  0.04510603  0.02373295  0.05209365  1.0000044\n",
      "   0.06557218  0.07243555  0.04949126  0.09175072  0.02936152]\n",
      " [-0.08727533  0.05140493 -0.08890848 -0.04314902 -0.09846821  0.06557218\n",
      "   1.0000044  -0.12723218 -0.09188757 -0.17600148 -0.05827821]\n",
      " [-0.08371176  0.05553967 -0.08187621 -0.04181107 -0.09759092  0.07243555\n",
      "  -0.12723218  1.0000044  -0.09331326 -0.17095893 -0.05321285]\n",
      " [-0.06503326  0.0377161  -0.08448073 -0.03109138 -0.07738467  0.04949126\n",
      "  -0.09188757 -0.09331326  1.0000044  -0.15206426 -0.04785692]\n",
      " [-0.13003131  0.07405467 -0.14688966 -0.06608298 -0.14673297  0.09175072\n",
      "  -0.17600148 -0.17095893 -0.15206426  1.0000044  -0.10085918]\n",
      " [-0.04367564  0.02224405 -0.04837114 -0.01991968 -0.04960777  0.02936152\n",
      "  -0.05827821 -0.05321285 -0.04785692 -0.10085918  1.0000044 ]]\n"
     ]
    }
   ],
   "source": [
    "# 정의한 함수를 통해 데이터의 변수에 따른 Gaussian parameters를 구한다.\n",
    "mu, sigma = estimateGaussian(train_df)\n",
    "\n",
    "print(f'mu: {mu}')\n",
    "print(f'sigma: {sigma}')"
   ]
  },
  {
   "cell_type": "code",
   "execution_count": 20,
   "metadata": {},
   "outputs": [
    {
     "name": "stdout",
     "output_type": "stream",
     "text": [
      "각 데이터의 발생확률 p: [3.84652848e-06 8.88300029e-06 1.55825903e-11 ... 1.42056722e-06\n",
      " 3.74147111e-08 5.63188051e-06], 데이터의 개수: 57355\n"
     ]
    }
   ],
   "source": [
    "# 다음으로 구한 Gaussian parameters를 이용하여 각 데이터가 다변량 가우시안 분포에 대해서 발생할 확률을 구한다.\n",
    "p_test = multivariateGaussian(test_df,mu,sigma)\n",
    "print(f'각 데이터의 발생확률 p: {p_test}, 데이터의 개수: {len(p_test)}')"
   ]
  },
  {
   "cell_type": "code",
   "execution_count": 21,
   "metadata": {},
   "outputs": [
    {
     "data": {
      "text/plain": [
       "(array([3.9185e+04, 8.3750e+03, 4.8550e+03, 2.3810e+03, 1.1430e+03,\n",
       "        6.7600e+02, 3.7500e+02, 2.4500e+02, 1.1500e+02, 5.0000e+00]),\n",
       " array([0.00000000e+00, 4.41516607e-06, 8.83033213e-06, 1.32454982e-05,\n",
       "        1.76606643e-05, 2.20758303e-05, 2.64909964e-05, 3.09061625e-05,\n",
       "        3.53213285e-05, 3.97364946e-05, 4.41516607e-05]),\n",
       " <BarContainer object of 10 artists>)"
      ]
     },
     "execution_count": 21,
     "metadata": {},
     "output_type": "execute_result"
    },
    {
     "data": {
      "image/png": "[encoded data removed]",
      "text/plain": [
       "<Figure size 432x288 with 1 Axes>"
      ]
     },
     "metadata": {
      "needs_background": "light"
     },
     "output_type": "display_data"
    }
   ],
   "source": [
    "plt.hist(p_test)"
   ]
  },
  {
   "cell_type": "code",
   "execution_count": 22,
   "metadata": {},
   "outputs": [
    {
     "name": "stdout",
     "output_type": "stream",
     "text": [
      "fscore: 0.08373382624768946, ep: 4.4151660657652786e-08\n"
     ]
    }
   ],
   "source": [
    "# 다음으로는 현재 계산된 p값 즉, Anomaly Score를 어느 기준에서 비정상 데이터로 판단할지 threshold를 구한다.\n",
    "fscore, ep= selectThreshold(test_target,p_test)\n",
    "print(f'fscore: {fscore}, ep: {ep}')\n",
    "\n",
    "# 본 데이터와 같이 복잡한 데이터의 경우, 기본적인 Gaussian Density-based Anomaly Detection에는 좋은 성능을 보이지 못하고 있다."
   ]
  },
  {
   "cell_type": "markdown",
   "metadata": {},
   "source": [
    "## 1.3\tMixture of Gaussians Density Estimation\n",
    "앞서 설명한 Gaussian Density-based Anomaly Detection 방법론의 경우 쉽게 적용 가능하다는 것이 장점이지만, 다소 세상을 너무 쉽게 본 경향이 있다. 과연 실제 현실의 데이터가 하나의 정규분포로부터 발생하였을까? 세상의 다양한 현상들이 크게 보면 정규 분포를 따르는 경향이 있는 것은 분명하지만, 확실하게 다수의 분포로부터 데이터가 발생했다고 보는 것이 더 정확한 경우는 많이 있다. 간단한 예시를 들어보면 사람의 신장에 대한 분포를 살펴본다면 나름대로 Gaussian 분포를 따를 수도 있지만, 성별에 따라 조금 다른 분포를 보일 수 있다는 건 쉽게 생각할 수 있다. 또 만약 국가가 달라진다면 국민들의 키가 키기로 유명한 북유럽 국가 국민들의 키 분포와 우리나라의 키 분포가 과연 하나의 단봉(분포의 모양이 봉우리가 하나라는 의미) Gaussian 분포를 이룰까? 이런 상황을 분석하기 위해서 우리는 여러 개의 Gaussian 분포를 선형 결합한 Mixture of Gaussians를 사용하곤 한다. 이 아이디어를 Anomaly Detection에 적용한 것이 이번에 알아볼 Mixture of Gaussians Density Estimation 방법론이다.  \n",
    "\n",
    " <p align=\"center\">   <image src=\"./images/2022-11-16-23-40-36.png\" width=\"60%\"/>   </p>\n",
    "\n",
    "데이터에 대해 추정하는 분포가 단봉이 아니라 multi-mode(다봉)라는 것만 제외한다면 Anomaly Detection의 아이디어는 동일하다. 데이터를 통해 추정한 분포에 대해서 새로운 test 데이터가 발생할 확률이 작다면 이상치로 판단하는 것이다.  \n",
    "\n",
    "가장 큰 차이가 발생하는 부분은 분포의 파라미터(모수, parameter)를 추정하는 과정이 단봉이었을 때와는 다르게 한 번에 최적화가 불가능하고 EM알고리즘을 통해 순차적으로 찾아가야 한다는 것이다. 기존의 단봉 상황에선 모든 데이터가 하나의 가우시안 분포로부터 기인했다는 가정을 하기 때문에 모든 데이터를 사용하여 Maximum Likely Estimation을 통해 단순 계산으로 파라미터를 구할 수 있었다. 그러나 현재 multi-mode 상황에서는 어떤 데이터가 어떤 mode로부터 생성되었는지를 알지 못해, 어떤 데이터를 통해 어떤 mode의 파라미터를 계산해야 하는지 알 수가 없다. 또한 각각의 mode가 결합되는 비율도 알 수가 없다. EM 알고리즘은 Expectation–maximization algorithm의 줄임 말로 지금처럼 한 번에 최적화가 불가능한 상황에서 Expectation, maximization 과정을 반복하는 것으로 최적화를 수행하는 대표적인 방법이다.  \n",
    "\n",
    "각각의 과정은 다음과 같은 역할을 수행한다.  \n",
    "- Expectation: 현재 시점의 파라미터를 사용해 어떤 데이터가 어떤 가우시안 분포에 할당되어야 최대 likelihood를 가지는 지를 통해 데이터를 mode에 할당  \n",
    "\n",
    " <p align=\"center\">   <image src=\"./images/2022-11-16-23-41-09.png\" width=\"60%\"/>   </p>\n",
    "\n",
    "- Maximization: 현재 할당된 데이터를 기분으로 likelihood를 최대화하도록 각 가우시안 분포의 파라미터 업데이트  \n",
    "\n",
    " <p align=\"center\">   <image src=\"./images/2022-11-16-23-41-30.png\" width=\"60%\"/>   </p>\n",
    " \n",
    "즉, 최적화의 과정을 정리하면 다음과 같다.  \n",
    "\n",
    "1)\t가우시안 파라미터 랜덤 초기화  \n",
    "2)\tExpectation  \n",
    "3)\tMaximization  \n",
    "4)\tE-M 과정 정해진 수만큼 반복  \n",
    "추가로 전체적인 수식은 다음과 같다.  \n",
    "\n",
    " <p align=\"center\">   <image src=\"./images/2022-11-16-23-41-49.png\" width=\"60%\"/>   </p>\n",
    "\n",
    "추가로 연산 효율을 위해 다양한 형태의 공분산 행렬 사용 가능하며 공분산 행렬 형태에 따라 다양한 Mixture of Gaussians 형태가 발생한다.  \n",
    "\n",
    " <p align=\"center\">   <image src=\"./images/2022-11-16-23-42-03.png\" width=\"60%\"/>   </p>"
   ]
  },
  {
   "cell_type": "code",
   "execution_count": 26,
   "metadata": {},
   "outputs": [],
   "source": [
    "# Mixture of Gaussians Density Estimation 코드 구현\n",
    "# 본 방법론의 경우도 Gaussian Density-based Anomaly Detection과 마찬가지로 Gaussian parameters를 구하는 과정이 필요하다.\n",
    "# 다만, 본 방법론은 Gaussian parameters를 구하는 과정에서 EM 알고리즘을 사용한다.\n",
    "\n",
    "# 1. M-step Gaussian parameters 구하기\n",
    "# 먼저 파라미터 초기화를 위한 함수를 정의한다.\n",
    "\n",
    "class theta():\n",
    "    def __init__(self, pi, mu, Sigma):\n",
    "        self.pi = pi\n",
    "        self.mu = mu\n",
    "        self.Sigma = Sigma\n",
    "\n",
    "# 다음으로 각각의 파라미터를 계산하기위한 함수를 정의한다.\n",
    "def get_gamma(theta_val, X, K):\n",
    "    gamma = np.empty((0,K))\n",
    "\n",
    "    for n in range(len(X)):\n",
    "        gamma_n = np.array([])\n",
    "\n",
    "        for k in range(K):\n",
    "            denom_elem = np.array([])\n",
    "            for j in range(K):\n",
    "                dist_j = multivariate_normal(\n",
    "                    mean=theta_val.mu[j],\n",
    "                    cov=theta_val.Sigma[j])\n",
    "                denom_elem = np.append(denom_elem, theta_val.pi[j] * dist_j.pdf(X[n]))\n",
    "            denom = denom_elem.sum()\n",
    "\n",
    "            dist_k = multivariate_normal(\n",
    "                mean=theta_val.mu[k],\n",
    "                cov=theta_val.Sigma[k])\n",
    "            numer = theta_val.pi[k] * dist_k.pdf(X[n])\n",
    "\n",
    "            gamma_n = np.append(gamma_n, numer / denom)\n",
    "\n",
    "        gamma = np.vstack((gamma, gamma_n))\n",
    "\n",
    "    return gamma\n",
    "\n",
    "def get_mu(gamma, X, K):\n",
    "    mu_new = np.zeros((K,X.shape[1]), dtype=np.float64)\n",
    "\n",
    "    for k in range(K):\n",
    "        denom = sum(gamma[n][k] for n in range(len(X)))\n",
    "        numer_x = sum(gamma[n][k] * X[n][0] for n in range(len(X)))\n",
    "        mu_new[k][0] = numer_x / denom\n",
    "        numer_y = sum(gamma[n][k] * X[n][1] for n in range(len(X)))\n",
    "        mu_new[k][1] = numer_y / denom\n",
    "\n",
    "    return mu_new\n",
    "\n",
    "def get_sigma(gamma, mu_new, X, K):\n",
    "    Sigma_new = np.empty((0,X.shape[1],X.shape[1]))\n",
    "\n",
    "    for k in range(K):\n",
    "        denom = sum(gamma[n][k] for n in range(len(X)))\n",
    "        numer = np.zeros((X.shape[1],X.shape[1]), dtype=np.float64)\n",
    "        for n in range(len(X)):\n",
    "            sub = np.subtract(X[n], mu_new[k])\n",
    "            sub = np.array([sub])\n",
    "            sub_t = sub.transpose()\n",
    "            numer = numer + gamma[n][k] * np.matmul(sub_t, sub)\n",
    "        Sigma_new = np.vstack((Sigma_new, [numer / denom]))\n",
    "\n",
    "    return Sigma_new\n",
    "\n",
    "def get_pi(gamma, X, K):\n",
    "    pi_new = np.array([])\n",
    "\n",
    "    for k in range(K):\n",
    "        pi_new = np.append(\n",
    "            pi_new,\n",
    "            sum(gamma[n][k] for n in range(len(X))) / len(X))\n",
    "\n",
    "    return pi_new"
   ]
  },
  {
   "cell_type": "code",
   "execution_count": 27,
   "metadata": {},
   "outputs": [],
   "source": [
    "# 가우시안의 갯수 K는 하이퍼 파라미터이므로 미리 정의해 준다. \n",
    "K = 3\n",
    "\n",
    "cov=np.ones(K*train_df.shape[1]*train_df.shape[1]).reshape(K,train_df.shape[1],train_df.shape[1])\n",
    "for i in range(K):\n",
    "    cov[i]=np.stack(np.cov(train_df, rowvar=False), axis=0)\n",
    "\n",
    "\n",
    "\n",
    "#파라미터 초기화\n",
    "theta_old = theta(\n",
    "    pi=np.random.dirichlet(np.ones(K),size=1)[0],\n",
    "    mu=np.random.random(K*train_df.shape[1]).reshape(K,train_df.shape[1]),\n",
    "    Sigma=cov,\n",
    "    )"
   ]
  },
  {
   "cell_type": "code",
   "execution_count": 28,
   "metadata": {},
   "outputs": [
    {
     "name": "stdout",
     "output_type": "stream",
     "text": [
      "pi:[0.68183111 0.06651385 0.25165504], mu:[[ 0.12026856  0.03545374  0.          0.          0.          0.\n",
      "   0.          0.          0.          0.          0.        ]\n",
      " [-0.8171577  -0.11607011  0.          0.          0.          0.\n",
      "   0.          0.          0.          0.          0.        ]\n",
      " [-0.28446731 -0.01221677  0.          0.          0.          0.\n",
      "   0.          0.          0.          0.          0.        ]], Sigma:[[[ 7.04339577e-01  9.45287934e-02 -4.93423151e-02  2.68810675e-02\n",
      "   -1.49457135e-01  9.96416102e-02 -2.54593647e-02 -1.89365338e-01\n",
      "    8.25710225e-02  7.37123101e-02  3.40275238e-02]\n",
      "  [ 9.45287934e-02  1.16745787e+00  8.56474611e-02  2.51783435e-02\n",
      "    1.58336795e-01 -2.88190033e-02  9.67878149e-02  1.22025083e-01\n",
      "    1.35062743e-01 -5.86354192e-02 -7.79017572e-02]\n",
      "  [-4.93423151e-02  8.56474611e-02  4.69941226e-01 -8.50772222e-02\n",
      "   -1.46468140e-01  2.84754152e-02  4.74083812e-02  1.50912302e-01\n",
      "   -4.09084175e-02 -9.86059112e-02 -1.11556659e-01]\n",
      "  [ 2.68810675e-02  2.51783435e-02 -8.50772222e-02  1.10332850e+00\n",
      "   -5.07139199e-01  5.20363488e-02 -5.55084053e-02  8.52731905e-02\n",
      "   -3.61219545e-02  2.44017950e-02  4.74534457e-02]\n",
      "  [-1.49457135e-01  1.58336795e-01 -1.46468140e-01 -5.07139199e-01\n",
      "    6.04089578e-01 -5.70710227e-02 -1.12428577e-01 -9.01203011e-02\n",
      "    5.07025974e-02 -2.68935134e-02  2.81565530e-02]\n",
      "  [ 9.96416102e-02 -2.88190033e-02  2.84754152e-02  5.20363488e-02\n",
      "   -5.70710227e-02  1.03825466e+00  6.03354918e-02  2.73410051e-01\n",
      "    1.06394606e-01  6.27971707e-02  8.93467462e-02]\n",
      "  [-2.54593647e-02  9.67878149e-02  4.74083812e-02 -5.55084053e-02\n",
      "   -1.12428577e-01  6.03354918e-02  1.11002011e+00 -3.39168943e-01\n",
      "   -9.88481408e-02 -3.22259635e-01 -2.37148250e-02]\n",
      "  [-1.89365338e-01  1.22025083e-01  1.50912302e-01  8.52731905e-02\n",
      "   -9.01203011e-02  2.73410051e-01 -3.39168943e-01  5.96873473e-01\n",
      "   -4.08776881e-02 -9.79570080e-03  2.68615541e-02]\n",
      "  [ 8.25710225e-02  1.35062743e-01 -4.09084175e-02 -3.61219545e-02\n",
      "    5.07025974e-02  1.06394606e-01 -9.88481408e-02 -4.08776881e-02\n",
      "    8.23939452e-01 -2.55992168e-01 -1.62695917e-01]\n",
      "  [ 7.37123101e-02 -5.86354192e-02 -9.86059112e-02  2.44017950e-02\n",
      "   -2.68935134e-02  6.27971707e-02 -3.22259635e-01 -9.79570080e-03\n",
      "   -2.55992168e-01  6.14795052e-01 -2.22741938e-01]\n",
      "  [ 3.40275238e-02 -7.79017572e-02 -1.11556659e-01  4.74534457e-02\n",
      "    2.81565530e-02  8.93467462e-02 -2.37148250e-02  2.68615541e-02\n",
      "   -1.62695917e-01 -2.22741938e-01  8.36434452e-01]]\n",
      "\n",
      " [[ 2.15942528e+00  2.74786220e-01  1.85143536e-01  4.50602164e-01\n",
      "    1.44221262e-01  5.65030221e-01 -4.95217042e-01 -1.19066587e+00\n",
      "   -3.79495230e-01 -7.40522767e-01 -2.91369485e-02]\n",
      "  [ 2.74786220e-01  1.66869125e+00 -2.59447121e-01 -7.08805503e-01\n",
      "   -1.01538915e+00  6.49775136e-02  1.45838695e-01  3.30256111e-01\n",
      "   -1.52819177e-01  5.54761986e-01  2.34257668e-01]\n",
      "  [ 1.85143536e-01 -2.59447121e-01  6.12904325e+00  9.33792121e-01\n",
      "    6.57190333e-01  7.17670945e-01 -1.27492027e+00 -1.71561623e+00\n",
      "    4.76428546e-02 -1.11467972e+00 -8.92297361e-01]\n",
      "  [ 4.50602164e-01 -7.08805503e-01  9.33792121e-01  3.91489918e+00\n",
      "    5.09763569e+00  7.86163370e-01 -1.61422404e-02 -2.55250620e+00\n",
      "   -7.09884797e-01 -1.09982588e+00 -7.12377145e-01]\n",
      "  [ 1.44221262e-01 -1.01538915e+00  6.57190333e-01  5.09763569e+00\n",
      "    8.24993776e+00  7.02958673e-01 -8.57680219e-02 -3.24948695e+00\n",
      "   -1.70474360e+00 -1.19817520e+00 -9.82517028e-01]\n",
      "  [ 5.65030221e-01  6.49775136e-02  7.17670945e-01  7.86163370e-01\n",
      "    7.02958673e-01  1.03613411e+00 -2.33744276e-01 -1.00419472e+00\n",
      "   -1.58009932e-01 -4.44804998e-01 -1.06454033e-01]\n",
      "  [-4.95217042e-01  1.45838695e-01 -1.27492027e+00 -1.61422404e-02\n",
      "   -8.57680219e-02 -2.33744276e-01  1.05929765e+00  5.60243575e-01\n",
      "    1.08697509e-01  3.32648118e-01  4.83254443e-02]\n",
      "  [-1.19066587e+00  3.30256111e-01 -1.71561623e+00 -2.55250620e+00\n",
      "   -3.24948695e+00 -1.00419472e+00  5.60243575e-01  3.43019851e+00\n",
      "    6.33792731e-01  7.40254246e-01  5.01421170e-01]\n",
      "  [-3.79495230e-01 -1.52819177e-01  4.76428546e-02 -7.09884797e-01\n",
      "   -1.70474360e+00 -1.58009932e-01  1.08697509e-01  6.33792731e-01\n",
      "    1.53562617e+00 -5.45784612e-02 -5.45278605e-02]\n",
      "  [-7.40522767e-01  5.54761986e-01 -1.11467972e+00 -1.09982588e+00\n",
      "   -1.19817520e+00 -4.44804998e-01  3.32648118e-01  7.40254246e-01\n",
      "   -5.45784612e-02  1.54400134e+00  2.61218659e-01]\n",
      "  [-2.91369485e-02  2.34257668e-01 -8.92297361e-01 -7.12377145e-01\n",
      "   -9.82517028e-01 -1.06454033e-01  4.83254443e-02  5.01421170e-01\n",
      "   -5.45278605e-02  2.61218659e-01  1.28769101e+00]]\n",
      "\n",
      " [[ 1.12048143e+00 -1.82829256e-01  2.55634399e-02  3.24585876e-02\n",
      "   -1.88539335e-02 -1.87383025e-01  1.71953151e-01  1.90476738e-01\n",
      "   -2.39099218e-01 -5.04239161e-01 -3.98087190e-01]\n",
      "  [-1.82829256e-01  5.03142712e-01 -1.75627056e-02  4.23456942e-02\n",
      "    5.52868555e-02  1.00301995e-01  3.63319913e-02 -9.79201309e-02\n",
      "   -1.46137172e-01  3.82706633e-01  2.45740383e-01]\n",
      "  [ 2.55634399e-02 -1.75627056e-02  4.05293435e-01 -9.37196621e-02\n",
      "   -1.35093934e-01  2.10301829e-03 -4.17963652e-02 -1.92763106e-01\n",
      "   -2.62738480e-02 -3.67034098e-02  2.06888125e-01]\n",
      "  [ 3.24585876e-02  4.23456942e-02 -9.37196621e-02  3.41417618e-01\n",
      "   -5.19739971e-02 -1.13657038e-01  1.53377109e-01 -1.05778452e-01\n",
      "   -1.72048608e-01 -1.89117575e-02 -5.75003991e-02]\n",
      "  [-1.88539335e-02  5.52868555e-02 -1.35093934e-01 -5.19739971e-02\n",
      "    4.90253999e-01  5.49199334e-02 -9.55700212e-02  4.30568606e-01\n",
      "   -5.12303050e-02 -3.88210240e-01 -1.20447420e-01]\n",
      "  [-1.87383025e-01  1.00301995e-01  2.10301829e-03 -1.13657038e-01\n",
      "    5.49199334e-02  9.03947393e-01  8.89753656e-02 -9.30672119e-02\n",
      "    7.91281415e-02  3.71988267e-01  1.20493690e-01]\n",
      "  [ 1.71953151e-01  3.63319913e-02 -4.17963652e-02  1.53377109e-01\n",
      "   -9.55700212e-02  8.89753656e-02  5.10387214e-01  1.15680580e-01\n",
      "   -2.89879117e-01 -1.79304427e-01 -2.76671258e-01]\n",
      "  [ 1.90476738e-01 -9.79201309e-02 -1.92763106e-01 -1.05778452e-01\n",
      "    4.30568606e-01 -9.30672119e-02  1.15680580e-01  1.49543811e+00\n",
      "   -4.12927187e-01 -1.10017376e+00 -3.61676834e-01]\n",
      "  [-2.39099218e-01 -1.46137172e-01 -2.62738480e-02 -1.72048608e-01\n",
      "   -5.12303050e-02  7.91281415e-02 -2.89879117e-01 -4.12927187e-01\n",
      "    7.85995803e-01  1.30899495e-01  3.83225830e-01]\n",
      "  [-5.04239161e-01  3.82706633e-01 -3.67034098e-02 -1.89117575e-02\n",
      "   -3.88210240e-01  3.71988267e-01 -1.79304427e-01 -1.10017376e+00\n",
      "    1.30899495e-01  1.77354991e+00  1.82519688e-01]\n",
      "  [-3.98087190e-01  2.45740383e-01  2.06888125e-01 -5.75003991e-02\n",
      "   -1.20447420e-01  1.20493690e-01 -2.76671258e-01 -3.61676834e-01\n",
      "    3.83225830e-01  1.82519688e-01  1.14466360e+00]]]\n"
     ]
    }
   ],
   "source": [
    "# 빠른 학습을 위해 데이터를 샘플링한다.\n",
    "train_df_sample = train_df[0:1000]\n",
    "\n",
    "# EM 알고리즘 수행\n",
    "for loop in range(5):\n",
    "    print(f\"Running iteration {loop + 1} ...\", end=\"\\r\")\n",
    "    # Get gamma\n",
    "    l_gamma = get_gamma(theta_old, train_df_sample,K)\n",
    "    # Get new mu\n",
    "    l_mu_new = get_mu(l_gamma,train_df_sample,K)\n",
    "    # Get new sigma\n",
    "    l_sigma_new = get_sigma(l_gamma, l_mu_new,train_df_sample,K)\n",
    "    # Get new pi\n",
    "    l_pi_new = get_pi(l_gamma,train_df_sample,K)\n",
    "    # Replace theta\n",
    "    theta_old = theta(\n",
    "        pi=l_pi_new,\n",
    "        mu=l_mu_new,\n",
    "        Sigma=l_sigma_new\n",
    "    )\n",
    "print(f\"pi:{theta_old.pi}, mu:{theta_old.mu}, Sigma:{theta_old.Sigma}\")"
   ]
  },
  {
   "cell_type": "code",
   "execution_count": 29,
   "metadata": {},
   "outputs": [
    {
     "data": {
      "text/plain": [
       "((3,), (3, 11), (3, 11, 11))"
      ]
     },
     "execution_count": 29,
     "metadata": {},
     "output_type": "execute_result"
    }
   ],
   "source": [
    "# 학습된 파라미터를 받아서 테스트 데이터에 대한 예측값을 구하는 함수를 정의한다.\n",
    "\n",
    "pi=theta_old.pi\n",
    "mu=theta_old.mu\n",
    "Sigma=theta_old.Sigma\n",
    "\n",
    "pi.shape, mu.shape, Sigma.shape\n"
   ]
  },
  {
   "cell_type": "code",
   "execution_count": null,
   "metadata": {},
   "outputs": [],
   "source": [
    "#얻은 파라미터를 통해 최종적인 분포를 얻고, 이를 통해 테스트 데이터에 대한 가능도를 구한다.\n",
    "p = pi[0]*multivariate_normal(mean=mu[0], cov=sigma[0])+pi[1]*multivariate_normal(mean=mu[1], cov=sigma[1])+pi[2]*multivariate_normal(mean=mu[2], cov=sigma[2])\n",
    "prob=p.pdf(test_df)\n",
    "\n",
    "#이후의 과정은 가우시안이 한개일 때와 동일하게 진행된다.\n",
    "# 다음으로는 현재 계산된 p값 즉, Anomaly Score를 어느 기준에서 비정상 데이터로 판단할지 threshold를 구한다.\n",
    "fscore, ep= selectThreshold(test_target,prob)\n",
    "print(f'fscore: {fscore}, ep: {ep}')\n",
    "\n",
    "\n",
    "#이전의 단봉 보다는 훨씬 높은 성능을 보인다."
   ]
  },
  {
   "cell_type": "code",
   "execution_count": 34,
   "metadata": {},
   "outputs": [],
   "source": [
    "#라이브러리와 비교\n",
    "gmm=GaussianMixture(n_components=3, random_state=0)\n",
    "gmm_labels = gmm.fit_predict(train_df)"
   ]
  },
  {
   "cell_type": "code",
   "execution_count": 35,
   "metadata": {},
   "outputs": [
    {
     "data": {
      "text/plain": [
       "array([1, 1, 1, ..., 1, 2, 0], dtype=int64)"
      ]
     },
     "execution_count": 35,
     "metadata": {},
     "output_type": "execute_result"
    }
   ],
   "source": [
    "gmm_labels"
   ]
  },
  {
   "cell_type": "code",
   "execution_count": 37,
   "metadata": {},
   "outputs": [
    {
     "data": {
      "text/plain": [
       "array([ -8.94367815,  -8.1130707 , -25.09950333, ...,  -9.49498806,\n",
       "       -13.65326226,  -9.43384652])"
      ]
     },
     "execution_count": 37,
     "metadata": {},
     "output_type": "execute_result"
    }
   ],
   "source": [
    "score = gmm.score_samples(test_df)\n",
    "score"
   ]
  },
  {
   "cell_type": "code",
   "execution_count": 39,
   "metadata": {},
   "outputs": [
    {
     "name": "stdout",
     "output_type": "stream",
     "text": [
      "fscore: 0.8176914778856527, ep: -51.90481512333076\n"
     ]
    }
   ],
   "source": [
    "fscore, ep= selectThreshold(test_target,score)\n",
    "print(f'fscore: {fscore}, ep: {ep}')"
   ]
  },
  {
   "cell_type": "code",
   "execution_count": null,
   "metadata": {},
   "outputs": [],
   "source": [
    "# 직접 구현한 모델 보다는 성능이 좋으나 유사한 결과이다."
   ]
  },
  {
   "cell_type": "markdown",
   "metadata": {},
   "source": [
    "# 다음은 추가적으로 살펴볼 만한 이론을 정리한 것이다. 추후에 코드 실습도 추가될 예정이다.\n",
    "## 1.4\tAuto Encoder\n",
    "우선 Auto-Encoder 자체에 대해 이야기 해보자. Auto-Encode란 입력과 출력이 동일한 Encoder & Decoder 구조의 인공신경망이다.\n",
    "\n",
    " <p align=\"center\">   <image src=\"./images/2022-11-16-23-58-39.png\" width=\"60%\"/>   </p>\n",
    "\n",
    "위 그림에서도 확인이 가능한데, 모델의 input과 output이 모두 X로 동일하다. 또한 아래의 그림을 보면 입력과 출력의 크기가 동일한 것에 비해 중간의 latent Vector는 더 적은 차원을 가진 것을 확인 할 수 있다.\n",
    "\n",
    " <p align=\"center\">   <image src=\"./images/2022-11-17-00-01-14.png\" width=\"60%\"/>   </p>\n",
    "\n",
    "이는 입력 변수보다 적은 차원의 Latent Space를 거치는 것으로 정보의 축약을 수행하는 것으로, 모델은 이처럼 입력을 축약하는 Mapping 과정과 그를 다시 복원하는 de-mapping 과정을 거친다. 모델의 학습은 입력과 출력이 최대한 동일해지도록 수행되며, 이 과정을 통해 모델은 입력 데이터를 보다 확실히 이해할 수 있게된다.\n",
    "\n",
    " <p align=\"center\">   <image src=\"./images/2022-11-17-00-05-29.png\" width=\"60%\"/>   </p>\n",
    "\n",
    "이런 Auto-Encoder의 활용은 크게 두가지가 있는데, 첫 째로는 데이터 차원 축소 도구로써 역할을 수행하여 latent vector가 다른 ML 모델의 input으로 사용되도록 하는 경우이다. 두 번째는 이번 실습의 주제인 Anomaly Detection을 수행하는 것인데, 기본적인 Anomaly detection 학습의 과정과 동일하게 모델은 정상 데이터만을 통해 학습이 되므로 모델은 정상 데이터를 압축, 복원하는 방법을 익히게 된다. 즉, 새로이 비정상 데이터가 들어온다면 모델을 통과한 결과 제대로 복원되지 못할 것이고, Reconstruction Loss가 큰게 나타나게 된다.\n",
    "\n",
    " <p align=\"center\">   <image src=\"./images/2022-11-17-02-12-04.png\" width=\"60%\"/>   </p>\n",
    "\n",
    "Auto-Encoder의 장점은 복원되는 정도가 어느 위치에서 영향을 받는지 확인이 가능하다는 점이 있는데, 이는 위 그림에서 잘 나타난다."
   ]
  },
  {
   "cell_type": "markdown",
   "metadata": {},
   "source": [
    "# 1.5 DAGMM\n",
    "마지막으로 기본적인 방법론들에서 조금 더 나아가 살펴볼 모델은 앞서 설명한 Mixture of Gaussians Density Estimation과 Auto-Encoder를 함께 사용하는 DEEP AUTOENCODING GAUSSIAN MIXTURE MODEL 이다. 본 방법론은 DEEP AUTOENCODING GAUSSIAN MIXTURE MODEL FOR UNSUPERVISED ANOMALY DETECTION (Zong et al., ICLR 2018) 논문에서 제안된 방식으로 전체적인 구조는 아래와 같다.\n",
    "\n",
    " <p align=\"center\">   <image src=\"./images/2022-11-17-02-20-58.png\" width=\"60%\"/>   </p>\n",
    "\n",
    "그림에서 알 수 있듯이 Auto-Encoder로 구성된 Compression Network와 Mixture of Gaussians Density Estimation의 Estimation역할을 수행하는 Estimation Network로 구성되는 모델로, Auto-Encoder의 또 다른 활용법인 차원축소를 통해 얻은 저차원의 결과를 Mixture of Gaussians Density Estimation에 활용한다고 보면 된다.  \n",
    "\n",
    "하나 짚고 넘어갈 점은 일전 Mixture of Gaussians Density Estimation를 설명할 때, EM 알고리즘은 Expectation & Maximization의 약자라고 설명하였으나 본 논문에서는 Estimation으로 용어를 사용하고 있다. 실제로 의미가 비슷하기도 하고 다양한 출처에서 둘을 혼용하고 있으니 참고바란다.  \n",
    "\n",
    "DAGMM의 지적하는 기존 방법론의 문제점은 바로 이 EM 알고리즘을 통해 최적화되야 한다는 점으로, 본 방법론은 end-to-end 학습이 가능한 구조이다. Auto-Encoder가 사용되는 부분은 차원의 축소를 담당하는 것으로 이상치 탐지에는 비교적 직접적으로 사용되지는 않으며 핵심은 Estimation Network에 있다. 이 Estimation Network는 MLN이 반복되고 마지막에 Softmax layer가 있는 구조로 Compression Network의 결과를 받아 최종적으로 각각의 데이터 포인트가 어떤 가우시안 mode에 포함될지를 확률의 형태로 산출해 준다. 기존의 GMM에 EM 알고리즘이 필요했던 이유는 각 데이터가 어떤 mode에 속하는지 결정이 되어야 가우시안의 파라미터를 계산할 수가 있고, 동시에 각 가우시안의 파라미터가 결정이 되어있어야 데이터들의 likelyhood를 계산 할 수 있기 때문에 동시에 최적화가 불가능 하다는 것이었다. 그러나 DAGMM 처럼 모델의 output에 직접적으로 각 데이터 포인트가 어떤 mode에 속하는지를 확률로 알려준다면 그를 활용해 바로 가우시안 분포의 파라미터 추정할 수가 있고 최종적으로 Objective function 최적화를 수행할 수가 있다.\n",
    "\n",
    "전체적인 Process와 계산식은 다음과 같다.\n",
    "\n",
    " <p align=\"center\">   <image src=\"./images/2022-11-17-02-34-10.png\" width=\"60%\"/>   </p>\n",
    "\n",
    "특징적인 부분만을 일부 더 살펴보면 Compression Network에서는 일반적인 차원 축소의 결과로 latent vector만을 사용하는 것과는 다르게, Auto-Encoder 입력과 출력 사이의 cos similarity와 L2 norm을 계산한 것을 concatenation하여 사용한다는 것이다.  \n",
    "\n",
    "또 Loss를 보면 크게 세 가지 부분으로 구분이 되는데, 순서대로 Auto-Encoder 학습을 담당하는 Reconstruction error, Likelihood와 유사하게 작동하여 input을 관측할 확률이 높아지도록 하는 Sample energy Function이 있으며, 마지막으로는 GMM과 동일하게 특정한 position에서 data의 발생확률이 지나치게 높게 학습되는 특이점 문제를 방지하기 위해 공분산 행렬의 대각의 값들이 0이 되는 것을 방지하는 Penalized Diagonal Entries term이 있다."
   ]
  },
  {
   "cell_type": "markdown",
   "metadata": {},
   "source": [
    "Reference\n",
    "DEEP AUTOENCODING GAUSSIAN MIXTURE MODEL FOR UNSUPERVISED ANOMALY DETECTION (Zong et al., ICLR 2018)\n",
    "\n",
    "https://www.kaggle.com/code/shelars1985/anomaly-detection-using-gaussian-distribution/notebook\n",
    "\n",
    "https://github.com/tsmatz/gmm/blob/master/01-gmm-em-algorithm.ipynb\n"
   ]
  }
 ],
 "metadata": {
  "kernelspec": {
   "display_name": "Python 3.9.7 ('base')",
   "language": "python",
   "name": "python3"
  },
  "language_info": {
   "codemirror_mode": {
    "name": "ipython",
    "version": 3
   },
   "file_extension": ".py",
   "mimetype": "text/x-python",
   "name": "python",
   "nbconvert_exporter": "python",
   "pygments_lexer": "ipython3",
   "version": "3.9.7"
  },
  "orig_nbformat": 4,
  "vscode": {
   "interpreter": {
    "hash": "ad2bdc8ecc057115af97d19610ffacc2b4e99fae6737bb82f5d7fb13d2f2c186"
   }
  }
 },
 "nbformat": 4,
 "nbformat_minor": 2
}
